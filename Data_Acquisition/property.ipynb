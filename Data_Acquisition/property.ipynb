{
 "cells": [
  {
   "cell_type": "code",
   "execution_count": 21,
   "metadata": {},
   "outputs": [
    {
     "name": "stdout",
     "output_type": "stream",
     "text": [
      "333\n",
      "12654\n"
     ]
    }
   ],
   "source": [
    "import requests\n",
    "from bs4 import BeautifulSoup\n",
    "from selenium import webdriver\n",
    "from selenium.webdriver.common.keys import Keys\n",
    "from selenium.webdriver.common.by import By\n",
    "\n",
    "def get_details_of_property(property_url):\n",
    "    \"\"\" Function to get all the characteristics of a property from the property url \"\"\"\n",
    "    property_details = requests.get(property_url)\n",
    "    soup = BeautifulSoup(property_details.text,\"html.parser\")\n",
    "    #print(soup.prettify())\n",
    "    details = []\n",
    "    for detail in soup.find_all(\"script\"):\n",
    "        details.append(detail.text)\n",
    "    property_data = details[1]    \n",
    "    return(property_data)\n",
    "\n",
    "property_url = \"https://www.immoweb.be/en/classified/apartment/for-sale/gavere/9890/10146915?searchId=633d465d2973c\"\n",
    "#get_details_of_property(property_url)\n",
    "##print(get_details_of_property(property_url))\n",
    "#exit()\n",
    "url = \"https://www.immoweb.be/en/search/apartment/for-sale?countries=BE\"\n",
    "driver =webdriver.Firefox()\n",
    "driver.get(url)\n",
    "driver.implicitly_wait(10)  # implicitly waiting for the cookie window to pop up\n",
    "cookie_button = driver.find_element(By.XPATH, \"\"\"//*[@id=\"uc-btn-accept-banner\"]\"\"\")\n",
    "cookie_button.click()\n",
    "pages = driver.find_elements(By.XPATH, \"\"\"/html/body/div[1]/div[1]/div/main/div/div[2]/div/div[3]/div/div[1]/div[1]/div[1]/div/div[1]/div/nav/ul/li[4]/a/span[2]\"\"\")\n",
    "for page in pages:\n",
    "    totalpages = page.text\n",
    "driver.close()\n",
    "print(totalpages)\n",
    "#totalpages = 2 # hardcoding for checking the loop\n",
    "property_url_list=[]\n",
    "for i in range(int(totalpages)):\n",
    "    page_url = f\"https://www.immoweb.be/en/search/apartment/for-sale?countries=BE&page={i+1}&orderBy=relevance\"\n",
    "    driver = webdriver.Firefox()\n",
    "    driver.get(page_url)\n",
    "    driver.implicitly_wait(10)  # implicitly waiting for the cookie window to pop up\n",
    "    cookie_button = driver.find_element(By.XPATH, \"\"\"//*[@id=\"uc-btn-accept-banner\"]\"\"\")\n",
    "    cookie_button.click()\n",
    "    property_list = driver.find_elements(By.XPATH, \"\"\"//*[@class=\"card__title-link\"]\"\"\")\n",
    "    for title in property_list:\n",
    "        property_url_list.append(title.get_attribute(\"href\"))\n",
    "    driver.close()\n",
    "print(len(property_url_list))\n",
    "\n",
    "#for property_url in property_url_list:\n",
    "    #\"pass it to the get_details_of_property function\"\n",
    "\n"
   ]
  }
 ],
 "metadata": {
  "kernelspec": {
   "display_name": "real_estate",
   "language": "python",
   "name": "real_estate"
  },
  "language_info": {
   "codemirror_mode": {
    "name": "ipython",
    "version": 3
   },
   "file_extension": ".py",
   "mimetype": "text/x-python",
   "name": "python",
   "nbconvert_exporter": "python",
   "pygments_lexer": "ipython3",
   "version": "3.6.9"
  },
  "orig_nbformat": 4
 },
 "nbformat": 4,
 "nbformat_minor": 2
}
