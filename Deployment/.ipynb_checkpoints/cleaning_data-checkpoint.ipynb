{
 "cells": [
  {
   "cell_type": "code",
   "execution_count": 2,
   "id": "b10e62b3",
   "metadata": {},
   "outputs": [],
   "source": [
    "import json\n",
    "import pandas as pd\n",
    "import joblib\n",
    "\n",
    "def preprocess(dict):\n",
    "    df = pd.DataFrame.from_dict(dict, orient='index')\n",
    "    \n",
    "    #label encoding property type\n",
    "    types = []\n",
    "    for row in df['property-type']:\n",
    "        if row == 'APARTMENT' :  \n",
    "            types.append('1')\n",
    "        elif row == 'HOUSE':\n",
    "            types.append('2')\n",
    "        else:           \n",
    "            types.append('Error')\n",
    "    df['types'] = types\n",
    "    \n",
    "    #label encoding kitchen type\n",
    "    encoded_kitchen = []\n",
    "    for row in df['equipped-kitchen']:\n",
    "        if row == True :  \n",
    "            encoded_kitchen.append('4')\n",
    "        elif row == False:        \n",
    "            encoded_kitchen.append('2')\n",
    "        else:\n",
    "            encoded_kitchen.append('Error')\n",
    "    df['encoded_kitchen'] = encoded_kitchen\n",
    "    \n",
    "    #merging for average salary of the zipcode\n",
    "    df_avg_sal = pd.read_csv('/home/becode/Desktop/becode_projects/Real-Estate-Price-Prediction/Deployment/preprocessing/avg_sal _zipcodes.csv')\n",
    "    df1 = pd.merge(df, df_avg_sal, on =\"zip-code\", how ='left')\n",
    "\n",
    "    #renaming columns to suit the model train data\n",
    "    df1.columns = df1.columns.str.replace('area', 'classified_land_surface')\n",
    "    df1.columns = df1.columns.str.replace('rooms-number', 'classified_bedroom_count')\n",
    "\n",
    "    #Building the dataframe with selected features\n",
    "    data = df1[['classified_land_surface','types',\n",
    "               'classified_bedroom_count','encoded_kitchen',\n",
    "               'avg_sal_zip_code']].copy()\n",
    "    \n",
    "    #error_msg\n",
    "    return(data)\n",
    "\n",
    "\n",
    "def predict(dict):\n",
    "    data = preprocess(dict)\n",
    "    \n",
    "    #Using the scaler from the model\n",
    "    filename = '/home/becode/Desktop/becode_projects/Real-Estate-Price-Prediction/Model_Training/finalized_scaler.sav'\n",
    "    scaler = joblib.load(filename)\n",
    "    data_scaled = scaler.transform(data)\n",
    "    \n",
    "    #Applying the model\n",
    "    filename1 = '/home/becode/Desktop/becode_projects/Real-Estate-Price-Prediction/Model_Training/finalized_model.sav'\n",
    "    model = joblib.load(filename1)\n",
    "    prediction = model.predict(data_scaled)\n",
    "    return(prediction)\n"
   ]
  },
  {
   "cell_type": "code",
   "execution_count": 3,
   "id": "16e7cf7b",
   "metadata": {},
   "outputs": [
    {
     "name": "stdout",
     "output_type": "stream",
     "text": [
      " The price is [263944.21] euros\n"
     ]
    }
   ],
   "source": [
    "#getting the input data\n",
    "dict1 = {\"data\": {\n",
    "    \"area\":90, \n",
    "    \"property-type\": \"APARTMENT\", \n",
    "    \"rooms-number\": 2, \n",
    "    \"zip-code\": 9000, \n",
    "    \"equipped-kitchen\": True,\n",
    "    \"land-area\": 400, #Not used\n",
    "    \"garden\": False, #Not used\n",
    "    \"garden-area\": 20, #Not used\n",
    "    \"full-address\": \"ABCDEF\", #Not used\n",
    "    \"swimming-pool\": False, #Not used\n",
    "    \"furnished\": True, #Not used\n",
    "    \"open-fire\": False, #Not used\n",
    "    \"terrace\": False, #Not used\n",
    "    \"terrace-area\": 10, #Not used\n",
    "    \"facades-number\": 3, #Not used\n",
    "    \"building-state\": \"GOOD\" #Not used\n",
    "      }\n",
    "       }\n",
    "with open(\"data.json\", \"w\") as outfile:\n",
    "    json.dump(dict1, outfile)\n",
    "with open(\"data.json\") as infile:\n",
    "    dict = json.load(infile)\n",
    "\n",
    "#predicting the price using the model\n",
    "x = predict(dict)\n",
    "print(f\" The price is {x.round(2)} euros\")\n"
   ]
  },
  {
   "cell_type": "code",
   "execution_count": null,
   "id": "61547a9f",
   "metadata": {},
   "outputs": [],
   "source": [
    "\n"
   ]
  }
 ],
 "metadata": {
  "kernelspec": {
   "display_name": "real_estate",
   "language": "python",
   "name": "real_estate"
  },
  "language_info": {
   "codemirror_mode": {
    "name": "ipython",
    "version": 3
   },
   "file_extension": ".py",
   "mimetype": "text/x-python",
   "name": "python",
   "nbconvert_exporter": "python",
   "pygments_lexer": "ipython3",
   "version": "3.6.9"
  }
 },
 "nbformat": 4,
 "nbformat_minor": 5
}
