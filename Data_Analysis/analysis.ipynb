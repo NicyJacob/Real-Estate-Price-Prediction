{
 "cells": [
  {
   "cell_type": "code",
   "execution_count": 3,
   "id": "8ee545b7",
   "metadata": {},
   "outputs": [
    {
     "data": {
      "text/plain": [
       "(25279, 23)"
      ]
     },
     "execution_count": 3,
     "metadata": {},
     "output_type": "execute_result"
    }
   ],
   "source": [
    "import pandas as pd\n",
    "\n",
    "df = pd.read_csv('/home/becode/Desktop/becode_projects/Real-Estate-Price-Prediction/Data_Analysis/propertydataoriginal-workingfile.csv')\n",
    "dataset = df.drop(columns=['Unnamed: 0',\n",
    " 'user_loginStatus',\n",
    " 'user_id',\n",
    " 'user_personal_language','customer_id',\n",
    " 'customer_name',\n",
    " 'customer_family',\n",
    " 'customer_groupInfo_id',\n",
    " 'customer_groupInfo_name',\n",
    " 'customer_networkInfo_id',\n",
    " 'customer_networkInfo_name',\n",
    " 'screen_name','screen_language'])\n",
    "dataset.isnull()\n",
    "dataset.dropna(subset = ['classified_id'], inplace=True)\n",
    "dataset.shape\n",
    "#dataset.loc[351]"
   ]
  },
  {
   "cell_type": "code",
   "execution_count": 4,
   "id": "7bf61376",
   "metadata": {},
   "outputs": [
    {
     "data": {
      "text/plain": [
       "classified_id                                                0\n",
       "classified_type                                              0\n",
       "classified_subtype                                           0\n",
       "classified_price                                             0\n",
       "classified_transactionType                                   0\n",
       "classified_zip                                               0\n",
       "classified_visualisationOption                               0\n",
       "classified_kitchen_type                                   7976\n",
       "classified_building_constructionYear                     10270\n",
       "classified_building_condition                             6294\n",
       "classified_energy_heatingType                             7262\n",
       "classified_certificates_primaryEnergyConsumptionLevel     5967\n",
       "classified_bedroom_count                                  1772\n",
       "classified_land_surface                                  11979\n",
       "classified_atticExists                                   21428\n",
       "classified_basementExists                                13504\n",
       "classified_outdoor_garden_surface                        19418\n",
       "classified_outdoor_terrace_exists                         9726\n",
       "classified_specificities_SME_office_exists               20954\n",
       "classified_wellnessEquipment_hasSwimmingPool             24487\n",
       "classified_parking_parkingSpaceCount_indoor              15054\n",
       "classified_parking_parkingSpaceCount_outdoor             16838\n",
       "classified_condition_isNewlyBuilt                        21206\n",
       "dtype: int64"
      ]
     },
     "execution_count": 4,
     "metadata": {},
     "output_type": "execute_result"
    }
   ],
   "source": [
    "dataset.isnull().sum()"
   ]
  },
  {
   "cell_type": "code",
   "execution_count": 5,
   "id": "6829d327",
   "metadata": {},
   "outputs": [
    {
     "data": {
      "text/plain": [
       "classified_id                                                0\n",
       "classified_type                                              0\n",
       "classified_subtype                                           0\n",
       "classified_price                                             0\n",
       "classified_transactionType                                   0\n",
       "classified_zip                                               0\n",
       "classified_visualisationOption                               0\n",
       "classified_kitchen_type                                      0\n",
       "classified_building_constructionYear                     10270\n",
       "classified_building_condition                             6294\n",
       "classified_energy_heatingType                             7262\n",
       "classified_certificates_primaryEnergyConsumptionLevel     5967\n",
       "classified_bedroom_count                                  1772\n",
       "classified_land_surface                                  11979\n",
       "classified_atticExists                                   21428\n",
       "classified_basementExists                                13504\n",
       "classified_outdoor_garden_surface                        19418\n",
       "classified_outdoor_terrace_exists                         9726\n",
       "classified_specificities_SME_office_exists               20954\n",
       "classified_wellnessEquipment_hasSwimmingPool             24487\n",
       "classified_parking_parkingSpaceCount_indoor              15054\n",
       "classified_parking_parkingSpaceCount_outdoor             16838\n",
       "classified_condition_isNewlyBuilt                        21206\n",
       "dtype: int64"
      ]
     },
     "execution_count": 5,
     "metadata": {},
     "output_type": "execute_result"
    }
   ],
   "source": [
    "dataset['classified_kitchen_type'] = dataset['classified_kitchen_type'].fillna('Not Specified')\n",
    "dataset.isnull().sum()"
   ]
  },
  {
   "cell_type": "code",
   "execution_count": 6,
   "id": "22889b52",
   "metadata": {},
   "outputs": [
    {
     "name": "stdout",
     "output_type": "stream",
     "text": [
      "installed           8325\n",
      "Not Specified       7976\n",
      "hyperequipped       3302\n",
      "semiequipped        2181\n",
      "usahyperequipped    1413\n",
      "notinstalled        1374\n",
      "usainstalled         558\n",
      "usasemiequipped      136\n",
      "usauninstalled        14\n",
      "Name: classified_kitchen_type, dtype: int64\n"
     ]
    }
   ],
   "source": [
    "print(dataset['classified_kitchen_type'].value_counts())"
   ]
  },
  {
   "cell_type": "code",
   "execution_count": 7,
   "id": "4903d087",
   "metadata": {},
   "outputs": [
    {
     "name": "stdout",
     "output_type": "stream",
     "text": [
      "good             7650\n",
      "Not Specified    6294\n",
      "asnew            5515\n",
      "torenovate       2214\n",
      "tobedoneup       2160\n",
      "justrenovated    1355\n",
      "torestore          91\n",
      "Name: classified_building_condition, dtype: int64\n"
     ]
    }
   ],
   "source": [
    "dataset['classified_building_condition'] = dataset['classified_building_condition'].fillna('Not Specified')\n",
    "print(dataset['classified_building_condition'].value_counts())"
   ]
  },
  {
   "cell_type": "code",
   "execution_count": 8,
   "id": "ced9c203",
   "metadata": {},
   "outputs": [
    {
     "name": "stdout",
     "output_type": "stream",
     "text": [
      "275000           489\n",
      "299000           362\n",
      "295000           357\n",
      "249000           343\n",
      "260000           335\n",
      "                ... \n",
      "185000-215000      1\n",
      "376500-376500      1\n",
      "206550-316050      1\n",
      "244500-357700      1\n",
      "327440             1\n",
      "Name: classified_price, Length: 2973, dtype: int64\n"
     ]
    }
   ],
   "source": [
    "print(dataset['classified_price'].value_counts())"
   ]
  },
  {
   "cell_type": "code",
   "execution_count": 9,
   "id": "b81f559b",
   "metadata": {},
   "outputs": [
    {
     "name": "stdout",
     "output_type": "stream",
     "text": [
      "1180.0    679\n",
      "4000.0    631\n",
      "8300.0    566\n",
      "1420.0    563\n",
      "1000.0    515\n",
      "         ... \n",
      "7640.0      1\n",
      "5024.0      1\n",
      "5080.0      1\n",
      "7803.0      1\n",
      "5022.0      1\n",
      "Name: classified_zip, Length: 903, dtype: int64\n"
     ]
    }
   ],
   "source": [
    "print(dataset['classified_zip'].value_counts())"
   ]
  },
  {
   "cell_type": "code",
   "execution_count": 10,
   "id": "b66d4560",
   "metadata": {},
   "outputs": [],
   "source": [
    "dataset['classified_zip'] = dataset['classified_zip'].astype(int).astype(str)\n"
   ]
  },
  {
   "cell_type": "code",
   "execution_count": 11,
   "id": "c90c2975",
   "metadata": {},
   "outputs": [
    {
     "name": "stdout",
     "output_type": "stream",
     "text": [
      "1180    679\n",
      "4000    631\n",
      "8300    566\n",
      "1420    563\n",
      "1000    515\n",
      "       ... \n",
      "6823      1\n",
      "4710      1\n",
      "6211      1\n",
      "7801      1\n",
      "7031      1\n",
      "Name: classified_zip, Length: 903, dtype: int64\n"
     ]
    }
   ],
   "source": [
    "print(dataset['classified_zip'].value_counts())"
   ]
  },
  {
   "cell_type": "code",
   "execution_count": 12,
   "id": "6d0d61c0",
   "metadata": {},
   "outputs": [
    {
     "data": {
      "text/plain": [
       "5462"
      ]
     },
     "execution_count": 12,
     "metadata": {},
     "output_type": "execute_result"
    }
   ],
   "source": [
    "dataset['classified_id'] = dataset['classified_id'].astype(int).astype(str)\n",
    "dataset['classified_id'].duplicated(keep = False).sum()\n"
   ]
  },
  {
   "cell_type": "code",
   "execution_count": 13,
   "id": "d19f48ab",
   "metadata": {},
   "outputs": [
    {
     "data": {
      "text/plain": [
       "(19993, 23)"
      ]
     },
     "execution_count": 13,
     "metadata": {},
     "output_type": "execute_result"
    }
   ],
   "source": [
    "dataset.duplicated(keep = False).sum()\n",
    "dataframe = dataset.drop_duplicates()\n",
    "dataframe.shape"
   ]
  },
  {
   "cell_type": "code",
   "execution_count": 29,
   "id": "c5e27406",
   "metadata": {},
   "outputs": [
    {
     "data": {
      "text/plain": [
       "False    19993\n",
       "Name: classified_price, dtype: int64"
      ]
     },
     "execution_count": 29,
     "metadata": {},
     "output_type": "execute_result"
    }
   ],
   "source": [
    "dataframe['classified_price'].value_counts()\n",
    "dataframe[['classified_price', 'new_price']] = dataframe['classified_price'].str.split('-', expand = True)\n",
    "dataframe['classified_price'].str.contains('-').value_counts()\n",
    "\n"
   ]
  },
  {
   "cell_type": "code",
   "execution_count": 30,
   "id": "be15def0",
   "metadata": {},
   "outputs": [
    {
     "data": {
      "text/html": [
       "<div>\n",
       "<style scoped>\n",
       "    .dataframe tbody tr th:only-of-type {\n",
       "        vertical-align: middle;\n",
       "    }\n",
       "\n",
       "    .dataframe tbody tr th {\n",
       "        vertical-align: top;\n",
       "    }\n",
       "\n",
       "    .dataframe thead th {\n",
       "        text-align: right;\n",
       "    }\n",
       "</style>\n",
       "<table border=\"1\" class=\"dataframe\">\n",
       "  <thead>\n",
       "    <tr style=\"text-align: right;\">\n",
       "      <th></th>\n",
       "      <th>classified_id</th>\n",
       "      <th>classified_type</th>\n",
       "      <th>classified_subtype</th>\n",
       "      <th>classified_price</th>\n",
       "      <th>classified_transactionType</th>\n",
       "      <th>classified_zip</th>\n",
       "      <th>classified_visualisationOption</th>\n",
       "      <th>classified_kitchen_type</th>\n",
       "      <th>classified_building_constructionYear</th>\n",
       "      <th>classified_building_condition</th>\n",
       "      <th>...</th>\n",
       "      <th>classified_atticExists</th>\n",
       "      <th>classified_basementExists</th>\n",
       "      <th>classified_outdoor_garden_surface</th>\n",
       "      <th>classified_outdoor_terrace_exists</th>\n",
       "      <th>classified_specificities_SME_office_exists</th>\n",
       "      <th>classified_wellnessEquipment_hasSwimmingPool</th>\n",
       "      <th>classified_parking_parkingSpaceCount_indoor</th>\n",
       "      <th>classified_parking_parkingSpaceCount_outdoor</th>\n",
       "      <th>classified_condition_isNewlyBuilt</th>\n",
       "      <th>new_price</th>\n",
       "    </tr>\n",
       "  </thead>\n",
       "  <tbody>\n",
       "    <tr>\n",
       "      <th>0</th>\n",
       "      <td>10146915</td>\n",
       "      <td>apartment</td>\n",
       "      <td>apartment</td>\n",
       "      <td>339000</td>\n",
       "      <td>forsale</td>\n",
       "      <td>9890</td>\n",
       "      <td>xl</td>\n",
       "      <td>hyperequipped</td>\n",
       "      <td>2021.0</td>\n",
       "      <td>asnew</td>\n",
       "      <td>...</td>\n",
       "      <td>NaN</td>\n",
       "      <td>NaN</td>\n",
       "      <td>NaN</td>\n",
       "      <td>True</td>\n",
       "      <td>NaN</td>\n",
       "      <td>NaN</td>\n",
       "      <td>NaN</td>\n",
       "      <td>NaN</td>\n",
       "      <td>1.0</td>\n",
       "      <td>None</td>\n",
       "    </tr>\n",
       "    <tr>\n",
       "      <th>1</th>\n",
       "      <td>10156372</td>\n",
       "      <td>apartment</td>\n",
       "      <td>apartment</td>\n",
       "      <td>395000</td>\n",
       "      <td>forsale</td>\n",
       "      <td>1140</td>\n",
       "      <td>xl</td>\n",
       "      <td>usahyperequipped</td>\n",
       "      <td>2022.0</td>\n",
       "      <td>asnew</td>\n",
       "      <td>...</td>\n",
       "      <td>NaN</td>\n",
       "      <td>True</td>\n",
       "      <td>NaN</td>\n",
       "      <td>True</td>\n",
       "      <td>NaN</td>\n",
       "      <td>NaN</td>\n",
       "      <td>1.0</td>\n",
       "      <td>NaN</td>\n",
       "      <td>1.0</td>\n",
       "      <td>None</td>\n",
       "    </tr>\n",
       "    <tr>\n",
       "      <th>2</th>\n",
       "      <td>10154682</td>\n",
       "      <td>apartment</td>\n",
       "      <td>apartment</td>\n",
       "      <td>965000</td>\n",
       "      <td>forsale</td>\n",
       "      <td>1150</td>\n",
       "      <td>xl</td>\n",
       "      <td>usahyperequipped</td>\n",
       "      <td>2021.0</td>\n",
       "      <td>asnew</td>\n",
       "      <td>...</td>\n",
       "      <td>NaN</td>\n",
       "      <td>NaN</td>\n",
       "      <td>NaN</td>\n",
       "      <td>True</td>\n",
       "      <td>NaN</td>\n",
       "      <td>NaN</td>\n",
       "      <td>1.0</td>\n",
       "      <td>NaN</td>\n",
       "      <td>1.0</td>\n",
       "      <td>None</td>\n",
       "    </tr>\n",
       "    <tr>\n",
       "      <th>3</th>\n",
       "      <td>10157770</td>\n",
       "      <td>apartment</td>\n",
       "      <td>apartment</td>\n",
       "      <td>249000</td>\n",
       "      <td>forsale</td>\n",
       "      <td>1800</td>\n",
       "      <td>xl</td>\n",
       "      <td>installed</td>\n",
       "      <td>2010.0</td>\n",
       "      <td>good</td>\n",
       "      <td>...</td>\n",
       "      <td>NaN</td>\n",
       "      <td>True</td>\n",
       "      <td>NaN</td>\n",
       "      <td>True</td>\n",
       "      <td>NaN</td>\n",
       "      <td>NaN</td>\n",
       "      <td>1.0</td>\n",
       "      <td>NaN</td>\n",
       "      <td>NaN</td>\n",
       "      <td>None</td>\n",
       "    </tr>\n",
       "    <tr>\n",
       "      <th>4</th>\n",
       "      <td>10157545</td>\n",
       "      <td>apartment</td>\n",
       "      <td>apartment</td>\n",
       "      <td>325000</td>\n",
       "      <td>forsale</td>\n",
       "      <td>8380</td>\n",
       "      <td>xl</td>\n",
       "      <td>hyperequipped</td>\n",
       "      <td>1967.0</td>\n",
       "      <td>asnew</td>\n",
       "      <td>...</td>\n",
       "      <td>NaN</td>\n",
       "      <td>NaN</td>\n",
       "      <td>NaN</td>\n",
       "      <td>True</td>\n",
       "      <td>NaN</td>\n",
       "      <td>NaN</td>\n",
       "      <td>NaN</td>\n",
       "      <td>NaN</td>\n",
       "      <td>NaN</td>\n",
       "      <td>None</td>\n",
       "    </tr>\n",
       "  </tbody>\n",
       "</table>\n",
       "<p>5 rows × 24 columns</p>\n",
       "</div>"
      ],
      "text/plain": [
       "  classified_id classified_type classified_subtype classified_price  \\\n",
       "0      10146915       apartment          apartment           339000   \n",
       "1      10156372       apartment          apartment           395000   \n",
       "2      10154682       apartment          apartment           965000   \n",
       "3      10157770       apartment          apartment           249000   \n",
       "4      10157545       apartment          apartment           325000   \n",
       "\n",
       "  classified_transactionType classified_zip classified_visualisationOption  \\\n",
       "0                    forsale           9890                             xl   \n",
       "1                    forsale           1140                             xl   \n",
       "2                    forsale           1150                             xl   \n",
       "3                    forsale           1800                             xl   \n",
       "4                    forsale           8380                             xl   \n",
       "\n",
       "  classified_kitchen_type  classified_building_constructionYear  \\\n",
       "0           hyperequipped                                2021.0   \n",
       "1        usahyperequipped                                2022.0   \n",
       "2        usahyperequipped                                2021.0   \n",
       "3               installed                                2010.0   \n",
       "4           hyperequipped                                1967.0   \n",
       "\n",
       "  classified_building_condition  ... classified_atticExists  \\\n",
       "0                         asnew  ...                    NaN   \n",
       "1                         asnew  ...                    NaN   \n",
       "2                         asnew  ...                    NaN   \n",
       "3                          good  ...                    NaN   \n",
       "4                         asnew  ...                    NaN   \n",
       "\n",
       "   classified_basementExists  classified_outdoor_garden_surface  \\\n",
       "0                        NaN                                NaN   \n",
       "1                       True                                NaN   \n",
       "2                        NaN                                NaN   \n",
       "3                       True                                NaN   \n",
       "4                        NaN                                NaN   \n",
       "\n",
       "   classified_outdoor_terrace_exists  \\\n",
       "0                               True   \n",
       "1                               True   \n",
       "2                               True   \n",
       "3                               True   \n",
       "4                               True   \n",
       "\n",
       "  classified_specificities_SME_office_exists  \\\n",
       "0                                        NaN   \n",
       "1                                        NaN   \n",
       "2                                        NaN   \n",
       "3                                        NaN   \n",
       "4                                        NaN   \n",
       "\n",
       "  classified_wellnessEquipment_hasSwimmingPool  \\\n",
       "0                                          NaN   \n",
       "1                                          NaN   \n",
       "2                                          NaN   \n",
       "3                                          NaN   \n",
       "4                                          NaN   \n",
       "\n",
       "   classified_parking_parkingSpaceCount_indoor  \\\n",
       "0                                          NaN   \n",
       "1                                          1.0   \n",
       "2                                          1.0   \n",
       "3                                          1.0   \n",
       "4                                          NaN   \n",
       "\n",
       "  classified_parking_parkingSpaceCount_outdoor  \\\n",
       "0                                          NaN   \n",
       "1                                          NaN   \n",
       "2                                          NaN   \n",
       "3                                          NaN   \n",
       "4                                          NaN   \n",
       "\n",
       "  classified_condition_isNewlyBuilt new_price  \n",
       "0                               1.0      None  \n",
       "1                               1.0      None  \n",
       "2                               1.0      None  \n",
       "3                               NaN      None  \n",
       "4                               NaN      None  \n",
       "\n",
       "[5 rows x 24 columns]"
      ]
     },
     "execution_count": 30,
     "metadata": {},
     "output_type": "execute_result"
    }
   ],
   "source": [
    "dataframe.head()"
   ]
  },
  {
   "cell_type": "code",
   "execution_count": 31,
   "id": "993b5af0",
   "metadata": {},
   "outputs": [
    {
     "name": "stdout",
     "output_type": "stream",
     "text": [
      "275000           489\n",
      "299000           362\n",
      "295000           357\n",
      "249000           343\n",
      "260000           335\n",
      "                ... \n",
      "185000-215000      1\n",
      "376500-376500      1\n",
      "206550-316050      1\n",
      "244500-357700      1\n",
      "327440             1\n",
      "Name: classified_price, Length: 2973, dtype: int64\n"
     ]
    }
   ],
   "source": [
    "print(dataset['classified_price'].value_counts())"
   ]
  },
  {
   "cell_type": "code",
   "execution_count": 32,
   "id": "93da3b32",
   "metadata": {},
   "outputs": [
    {
     "name": "stdout",
     "output_type": "stream",
     "text": [
      "299000    320\n",
      "295000    273\n",
      "199000    266\n",
      "395000    250\n",
      "249000    249\n",
      "         ... \n",
      "317203      1\n",
      "404442      1\n",
      "372992      1\n",
      "217929      1\n",
      "456500      1\n",
      "Name: classified_price, Length: 2058, dtype: int64\n"
     ]
    }
   ],
   "source": [
    "print(dataframe['classified_price'].value_counts())"
   ]
  },
  {
   "cell_type": "code",
   "execution_count": null,
   "id": "d4a96017",
   "metadata": {},
   "outputs": [],
   "source": []
  }
 ],
 "metadata": {
  "kernelspec": {
   "display_name": "real_estate",
   "language": "python",
   "name": "real_estate"
  },
  "language_info": {
   "codemirror_mode": {
    "name": "ipython",
    "version": 3
   },
   "file_extension": ".py",
   "mimetype": "text/x-python",
   "name": "python",
   "nbconvert_exporter": "python",
   "pygments_lexer": "ipython3",
   "version": "3.6.9"
  }
 },
 "nbformat": 4,
 "nbformat_minor": 5
}
